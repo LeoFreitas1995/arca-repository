{
  "nbformat": 4,
  "nbformat_minor": 0,
  "metadata": {
    "colab": {
      "name": "TESTES",
      "provenance": [],
      "collapsed_sections": [],
      "machine_shape": "hm"
    },
    "kernelspec": {
      "name": "python3",
      "display_name": "Python 3"
    }
  },
  "cells": [
    {
      "cell_type": "code",
      "metadata": {
        "id": "jx4KmQxpFRnI",
        "colab_type": "code",
        "colab": {}
      },
      "source": [
        "#Get library hdbscan\n",
        "!pip install hdbscan"
      ],
      "execution_count": 0,
      "outputs": []
    },
    {
      "cell_type": "code",
      "metadata": {
        "id": "_7qJgJVAPPm5",
        "colab_type": "code",
        "colab": {}
      },
      "source": [
        "#Import to libraries\n",
        "import numpy as np\n",
        "import pandas as pd\n",
        "import matplotlib.pyplot as pl\n",
        "import seaborn as sb\n",
        "import csv\n",
        "import time\n",
        "from datetime import datetime\n",
        "from sklearn.cluster import OPTICS\n",
        "from sklearn.cluster import DBSCAN\n",
        "from sklearn.cluster import KMeans\n",
        "import hdbscan\n",
        "from google.colab import files\n",
        "from sklearn.metrics import davies_bouldin_score\n",
        "from sklearn import metrics\n",
        "%matplotlib inline"
      ],
      "execution_count": 0,
      "outputs": []
    },
    {
      "cell_type": "code",
      "metadata": {
        "id": "Mv0e_hPVPgGo",
        "colab_type": "code",
        "colab": {}
      },
      "source": [
        "#Upload of dataset\n",
        "uploaded = files.upload()"
      ],
      "execution_count": 0,
      "outputs": []
    },
    {
      "cell_type": "code",
      "metadata": {
        "id": "BKmtshgHPlxm",
        "colab_type": "code",
        "colab": {}
      },
      "source": [
        "#Read dataset\n",
        "data_frame= pd.read_csv('TripsNormalizadaId.csv')\n",
        "db = data_frame\n",
        "db = db.iloc[0:60000]"
      ],
      "execution_count": 0,
      "outputs": []
    },
    {
      "cell_type": "code",
      "metadata": {
        "id": "IYgTpblD9mjI",
        "colab_type": "code",
        "colab": {}
      },
      "source": [
        "#Capture each trip departure time\n",
        "list_time = []\n",
        "for i in range (0, db['Tripid'].max()+1):\n",
        "  exist = db['Tripid'].loc[db['Tripid'] == i].sum()\n",
        "  if(exist):\n",
        "    list_time.append(db.loc[db['Tripid'] == i].head(1))\n",
        "trips_start = pd.concat(list_time)\n",
        "time_test = trips_start.iloc[:,9:10]"
      ],
      "execution_count": 0,
      "outputs": []
    },
    {
      "cell_type": "code",
      "metadata": {
        "id": "wbyHxYLb-At7",
        "colab_type": "code",
        "colab": {}
      },
      "source": [
        ""
      ],
      "execution_count": 0,
      "outputs": []
    },
    {
      "cell_type": "code",
      "metadata": {
        "id": "sX_QOkQ3ewNL",
        "colab_type": "code",
        "colab": {}
      },
      "source": [
        "#Read column time\n",
        "time_start = time_test"
      ],
      "execution_count": 0,
      "outputs": []
    },
    {
      "cell_type": "code",
      "metadata": {
        "colab_type": "code",
        "id": "NDANuCJ3-Pc1",
        "colab": {}
      },
      "source": [
        "#Temporal grouping\n",
        "clustering = OPTICS(max_eps=300,min_samples=2).fit(time_start)\n",
        "labels = clustering.labels_\n",
        "trips_start['GroupsTstart'] = clustering.labels_\n",
        "\n",
        "\n",
        "davies = davies_bouldin_score(time_start, labels)\n",
        "print(davies, calin, silhouette)"
      ],
      "execution_count": 0,
      "outputs": []
    },
    {
      "cell_type": "code",
      "metadata": {
        "id": "DGgl3qg39x3h",
        "colab_type": "code",
        "colab": {}
      },
      "source": [
        "#Readjustment of columns\n",
        "array_tripId = db['Tripid'].values\n",
        "\n",
        "lista_groups = []\n",
        "\n",
        "for i in range(0, db['Id'].max()+1):\n",
        "  value = array_tripId[i]\n",
        "  number_group = trips_start['GroupsTstart'].loc[trips_start['Tripid'] == value].max()\n",
        "  lista_groups.append(number_group)\n",
        "\n",
        "db['GroupsTstart'] = np.asarray(lista_groups)"
      ],
      "execution_count": 0,
      "outputs": []
    },
    {
      "cell_type": "code",
      "metadata": {
        "id": "KTaLoXIzu3bG",
        "colab_type": "code",
        "colab": {}
      },
      "source": [
        "#Spatial grouping\n",
        "groups_per_time = []\n",
        "all_groups = []\n",
        "\n",
        "media_IDB = []\n",
        "\n",
        "for i in range(0,db['GroupsTstart'].max()+1):\n",
        "  groups_per_time.append(db.loc[db['GroupsTstart'] == i])\n",
        "  routes = groups_per_time[i].iloc[:,5:7]\n",
        "\n",
        "  clustering_routes = OPTICS(max_eps=0.0024, min_samples=2).fit(routes)\n",
        "  labels_routes = clustering_routes.labels_\n",
        "  groups_per_time[i]['GroupsRoutes'] = clustering_routes.labels_\n",
        "\n",
        "  for gp in range(0, clustering_routes.labels_.max()+1):\n",
        "    all_groups.append(groups_per_time[i].loc[groups_per_time[i]['GroupsRoutes'] == gp])\n",
        "\n",
        "  if(labels_routes.min() != labels_routes.max()):\n",
        "    davies = davies_bouldin_score(routes, labels_routes)\n",
        "    media_IDB.append(davies)\n",
        "print(\"Done\")"
      ],
      "execution_count": 0,
      "outputs": []
    },
    {
      "cell_type": "code",
      "metadata": {
        "id": "CusX9Ti9XTly",
        "colab_type": "code",
        "colab": {}
      },
      "source": [
        "#Calculate average IDB\n",
        "print(\"Média IDB routes = \", sum(media_IDB)/len(media_IDB))"
      ],
      "execution_count": 0,
      "outputs": []
    },
    {
      "cell_type": "markdown",
      "metadata": {
        "id": "-A8-BUgkYcn6",
        "colab_type": "text"
      },
      "source": [
        "K-MEANS\n",
        "\n"
      ]
    },
    {
      "cell_type": "code",
      "metadata": {
        "id": "5KSHiOywYcLM",
        "colab_type": "code",
        "colab": {}
      },
      "source": [
        "#Read dataset\n",
        "dbK = data_frame\n",
        "dbK = dbK.iloc[0:60000]"
      ],
      "execution_count": 0,
      "outputs": []
    },
    {
      "cell_type": "code",
      "metadata": {
        "id": "0wSWSxl48ZTl",
        "colab_type": "code",
        "colab": {}
      },
      "source": [
        "#Capture each trip departure time\n",
        "list_timeK = []\n",
        "for i in range (0, dbK['Tripid'].max()+1):\n",
        "  exist = dbK['Tripid'].loc[dbK['Tripid'] == i].sum()\n",
        "  if(exist):\n",
        "    list_timeK.append(dbK.loc[dbK['Tripid'] == i].head(1))\n",
        "trips_startK = pd.concat(list_timeK)\n",
        "time_testK = trips_startK.iloc[:,9:10]"
      ],
      "execution_count": 0,
      "outputs": []
    },
    {
      "cell_type": "code",
      "metadata": {
        "id": "uEPqVOT0Y2Xh",
        "colab_type": "code",
        "colab": {}
      },
      "source": [
        "#Read column time\n",
        "time_startK = time_testK"
      ],
      "execution_count": 0,
      "outputs": []
    },
    {
      "cell_type": "code",
      "metadata": {
        "id": "8vh5scW-f25R",
        "colab_type": "code",
        "colab": {}
      },
      "source": [
        "#Elbow method\n",
        "def elbow(data):\n",
        "  wcss = []\n",
        "\n",
        "  for i in range(1,19):\n",
        "    elbow = KMeans(n_clusters = i, init = 'random')\n",
        "    \n",
        "    elbow.fit(data)\n",
        "    wcss.append(elbow.inertia_)\n",
        "\n",
        "  #Plot graphic\n",
        "  pl.figure(figsize=(10,10))\n",
        "  pl.plot(range(1, 19), wcss)\n",
        "  pl.xlabel('Número de grupos', size=20)\n",
        "  pl.ylabel('Variância', size=20)\n",
        "  pl.xticks(size=20)\n",
        "  pl.yticks(size=20)\n",
        "  pl.show()"
      ],
      "execution_count": 0,
      "outputs": []
    },
    {
      "cell_type": "code",
      "metadata": {
        "id": "nSbOcQbAj85p",
        "colab_type": "code",
        "colab": {}
      },
      "source": [
        "#Execute elbow method\n",
        "elbow(time_start)"
      ],
      "execution_count": 0,
      "outputs": []
    },
    {
      "cell_type": "code",
      "metadata": {
        "id": "45C38GN-Y_lO",
        "colab_type": "code",
        "colab": {}
      },
      "source": [
        "#Temporal clustering\n",
        "clusteringK = KMeans(n_clusters=4).fit(time_startK)\n",
        "labelsK = clusteringK.labels_\n",
        "trips_startK['GroupsTstart'] = clusteringK.labels_\n",
        "\n",
        "\n",
        "davies = davies_bouldin_score(time_startK, labelsK)"
      ],
      "execution_count": 0,
      "outputs": []
    },
    {
      "cell_type": "code",
      "metadata": {
        "id": "kSnll2l_9Nht",
        "colab_type": "code",
        "colab": {}
      },
      "source": [
        "#Readjustment of columns\n",
        "array_tripIdK = dbK['Tripid'].values\n",
        "\n",
        "lista_groupsK = []\n",
        "\n",
        "for i in range(0, dbK['Id'].max()+1):\n",
        "  valueK = array_tripIdK[i]\n",
        "  number_groupK = trips_startK['GroupsTstart'].loc[trips_startK['Tripid'] == valueK].max()\n",
        "  lista_groupsK.append(number_groupK)\n",
        "\n",
        "dbK['GroupsTstart'] = np.asarray(lista_groupsK)"
      ],
      "execution_count": 0,
      "outputs": []
    },
    {
      "cell_type": "code",
      "metadata": {
        "id": "ip7rLd7mZfyj",
        "colab_type": "code",
        "colab": {}
      },
      "source": [
        "#Spatial grouping\n",
        "groups_per_timeK = []\n",
        "all_groupsK = []\n",
        "\n",
        "mediaK_IDB = []\n",
        "\n",
        "for i in range(0,dbK['GroupsTstart'].max()+1):\n",
        "  groups_per_timeK.append(dbK.loc[dbK['GroupsTstart'] == i])\n",
        "  routesK = groups_per_timeK[i].iloc[:,5:7]\n",
        "  \n",
        "  clustering_routesK = KMeans(n_clusters=3).fit(routesK)\n",
        "  labelsK = clustering_routesK.labels_\n",
        "  groups_per_timeK[i]['GroupsRoutes'] = clustering_routesK.labels_\n",
        "\n",
        "  for gp in range(0, clustering_routesK.labels_.max()+1):\n",
        "    all_groupsK.append(groups_per_timeK[i].loc[groups_per_timeK[i]['GroupsRoutes'] == gp])\n",
        "\n",
        "\n",
        "  davies = davies_bouldin_score(routesK, labelsK)\n",
        "  mediaK_IDB.append(davies)\n",
        "  \n",
        "print(\"Done\")"
      ],
      "execution_count": 0,
      "outputs": []
    },
    {
      "cell_type": "code",
      "metadata": {
        "id": "ovibh5ZrF4qr",
        "colab_type": "code",
        "colab": {}
      },
      "source": [
        "#Calculate average IDB\n",
        "print(\"Média IDB routes = \", sum(mediaK_IDB)/len(mediaK_IDB))"
      ],
      "execution_count": 0,
      "outputs": []
    },
    {
      "cell_type": "markdown",
      "metadata": {
        "id": "blyUWvftF6cX",
        "colab_type": "text"
      },
      "source": [
        "HDBSCAN "
      ]
    },
    {
      "cell_type": "code",
      "metadata": {
        "id": "gsvcmstxF_nZ",
        "colab_type": "code",
        "colab": {}
      },
      "source": [
        "#Read dataset\n",
        "dbH = data_frame\n",
        "dbH = dbH.iloc[0:60000]"
      ],
      "execution_count": 0,
      "outputs": []
    },
    {
      "cell_type": "code",
      "metadata": {
        "id": "wmVJODLjnx7h",
        "colab_type": "code",
        "colab": {}
      },
      "source": [
        "#Capture each trip departure time\n",
        "list_timeH = []\n",
        "for i in range (0, dbH['Tripid'].max()+1):\n",
        "  exist = dbH['Tripid'].loc[dbH['Tripid'] == i].sum()\n",
        "  if(exist):\n",
        "    list_timeH.append(dbH.loc[dbH['Tripid'] == i].head(1))\n",
        "trips_startH = pd.concat(list_timeH)\n",
        "time_testH = trips_startH.iloc[:,9:10]"
      ],
      "execution_count": 0,
      "outputs": []
    },
    {
      "cell_type": "code",
      "metadata": {
        "id": "QrZ3fThWKpRn",
        "colab_type": "code",
        "colab": {}
      },
      "source": [
        "#Read column time\n",
        "time_startH = time_testH"
      ],
      "execution_count": 0,
      "outputs": []
    },
    {
      "cell_type": "code",
      "metadata": {
        "id": "IbtfLOA9K0gr",
        "colab_type": "code",
        "colab": {}
      },
      "source": [
        "#Temporal clustering\n",
        "clusteringH = hdbscan.HDBSCAN(cluster_selection_epsilon=300, min_cluster_size=2).fit(time_startH)\n",
        "labelsH = clusteringH.labels_\n",
        "trips_startH['GroupsTstart'] = clusteringH.labels_\n",
        "\n",
        "\n",
        "davies = davies_bouldin_score(time_startH, labelsH)\n",
        "calin = metrics.calinski_harabasz_score(time_startH, labelsH)\n",
        "silhouette = metrics.silhouette_score(time_startH, labelsH, metric='euclidean')\n",
        "\n",
        "print(davies, calin, silhouette)"
      ],
      "execution_count": 0,
      "outputs": []
    },
    {
      "cell_type": "code",
      "metadata": {
        "id": "u2NozEGGo24F",
        "colab_type": "code",
        "colab": {}
      },
      "source": [
        "#Readjustment of columns\n",
        "array_tripIdH = dbH['Tripid'].values\n",
        "\n",
        "lista_groupsH = []\n",
        "\n",
        "for i in range(0, dbH['Id'].max()+1):\n",
        "  valueH = array_tripIdH[i]\n",
        "  number_groupH = trips_startH['GroupsTstart'].loc[trips_startH['Tripid'] == valueH].max()\n",
        "  lista_groupsH.append(number_groupH)\n",
        "\n",
        "dbH['GroupsTstart'] = np.asarray(lista_groupsH)"
      ],
      "execution_count": 0,
      "outputs": []
    },
    {
      "cell_type": "code",
      "metadata": {
        "id": "C43OWZNIM1oU",
        "colab_type": "code",
        "colab": {}
      },
      "source": [
        "#Spatial grouping\n",
        "groups_per_timeH = []\n",
        "all_groupsH = []\n",
        "\n",
        "mediaH_IDB = []\n",
        "\n",
        "for i in range(0,clusteringH.labels_.max()+1):\n",
        "  groups_per_timeH.append(dbH.loc[dbH['GroupsTstart'] == i])\n",
        "  routesH = groups_per_timeH[i].iloc[:,5:7]\n",
        "  \n",
        "  clustering_routesH = hdbscan.HDBSCAN(cluster_selection_epsilon=0.0024, min_cluster_size=2).fit(routesH)\n",
        "  labelsH = clustering_routesH.labels_\n",
        "  groups_per_timeH[i]['GroupsRoutes'] = clustering_routesH.labels_\n",
        "\n",
        "  for gp in range(0, clustering_routesH.labels_.max()+1):\n",
        "    all_groupsH.append(groups_per_timeH[i].loc[groups_per_timeH[i]['GroupsRoutes'] == gp])\n",
        "\n",
        "\n",
        "  davies = davies_bouldin_score(routesH, labelsH)\n",
        "  mediaH_IDB.append(davies)\n",
        "  \n",
        "print(\"Done\")"
      ],
      "execution_count": 0,
      "outputs": []
    },
    {
      "cell_type": "code",
      "metadata": {
        "id": "T8ZUv9lZp6UB",
        "colab_type": "code",
        "colab": {}
      },
      "source": [
        "#Calculate average IDB\n",
        "print(\"Média IDB routes = \", sum(mediaH_IDB)/len(mediaH_IDB))"
      ],
      "execution_count": 0,
      "outputs": []
    },
    {
      "cell_type": "markdown",
      "metadata": {
        "id": "nYWL0_xBBDXq",
        "colab_type": "text"
      },
      "source": [
        "DBSCAN"
      ]
    },
    {
      "cell_type": "code",
      "metadata": {
        "id": "GGdo7HelBISA",
        "colab_type": "code",
        "colab": {}
      },
      "source": [
        "#Read dataset\n",
        "dbD = data_frame\n",
        "dbD = dbD.iloc[0:60000]"
      ],
      "execution_count": 0,
      "outputs": []
    },
    {
      "cell_type": "code",
      "metadata": {
        "id": "CdPoV-B6BPFB",
        "colab_type": "code",
        "colab": {}
      },
      "source": [
        "#Capture each trip departure time\n",
        "list_timeD = []\n",
        "for i in range (0, dbD['Tripid'].max()+1):\n",
        "  exist = dbD['Tripid'].loc[dbD['Tripid'] == i].sum()\n",
        "  if(exist):\n",
        "    list_timeD.append(dbD.loc[dbD['Tripid'] == i].head(1))\n",
        "trips_startD = pd.concat(list_timeD)\n",
        "time_testD = trips_startD.iloc[:,9:10]"
      ],
      "execution_count": 0,
      "outputs": []
    },
    {
      "cell_type": "code",
      "metadata": {
        "id": "2KwMv7BeBX8g",
        "colab_type": "code",
        "colab": {}
      },
      "source": [
        "#Read column time\n",
        "time_startD = time_testD"
      ],
      "execution_count": 0,
      "outputs": []
    },
    {
      "cell_type": "code",
      "metadata": {
        "id": "8NRz32tcBnaT",
        "colab_type": "code",
        "colab": {}
      },
      "source": [
        "#Temporal clustering\n",
        "clusteringD = DBSCAN(eps=300, min_samples=2).fit(time_startD)\n",
        "labelsD = clusteringD.labels_\n",
        "trips_startD['GroupsTstart'] = clusteringD.labels_\n",
        "\n",
        "\n",
        "davies = davies_bouldin_score(time_startD, labelsD)"
      ],
      "execution_count": 0,
      "outputs": []
    },
    {
      "cell_type": "code",
      "metadata": {
        "id": "fbD1vrpDBznX",
        "colab_type": "code",
        "colab": {}
      },
      "source": [
        "#Readjustment of columns\n",
        "array_tripIdD = dbD['Tripid'].values\n",
        "\n",
        "lista_groupsD = []\n",
        "\n",
        "for i in range(0, dbD['Id'].max()+1):\n",
        "  valueD = array_tripIdD[i]\n",
        "  number_groupD = trips_startD['GroupsTstart'].loc[trips_startD['Tripid'] == valueD].max()\n",
        "  lista_groupsD.append(number_groupD)\n",
        "\n",
        "dbD['GroupsTstart'] = np.asarray(lista_groupsD)"
      ],
      "execution_count": 0,
      "outputs": []
    },
    {
      "cell_type": "code",
      "metadata": {
        "id": "B95O7cYGCCbM",
        "colab_type": "code",
        "colab": {}
      },
      "source": [
        "#Spatial grouping\n",
        "groups_per_timeD = []\n",
        "all_groupsD = []\n",
        "\n",
        "mediaD_IDB = []\n",
        "\n",
        "for i in range(0,clusteringD.labels_.max()+1):\n",
        "  groups_per_timeD.append(dbD.loc[dbD['GroupsTstart'] == i])\n",
        "  routesD = groups_per_timeD[i].iloc[:,5:7]\n",
        "  \n",
        "  clustering_routesD = DBSCAN(eps=0.0024, min_samples=2).fit(routesD)\n",
        "  labelsD = clustering_routesD.labels_\n",
        "  groups_per_timeD[i]['GroupsRoutes'] = clustering_routesD.labels_\n",
        "\n",
        "  for gp in range(0, clustering_routesD.labels_.max()+1):\n",
        "    all_groupsD.append(groups_per_timeD[i].loc[groups_per_timeD[i]['GroupsRoutes'] == gp])\n",
        "\n",
        "\n",
        "  if(labelsD.min() != labelsD.max()):\n",
        "    davies = davies_bouldin_score(routesD, labelsD)\n",
        "    mediaD_IDB.append(davies)\n",
        "  \n",
        "print(\"Done\")"
      ],
      "execution_count": 0,
      "outputs": []
    },
    {
      "cell_type": "code",
      "metadata": {
        "id": "6WeOZji32YHG",
        "colab_type": "code",
        "colab": {}
      },
      "source": [
        "#Calculate average IDB\n",
        "print(\"Média IDB routes = \", sum(mediaD_IDB)/len(mediaD_IDB))"
      ],
      "execution_count": 0,
      "outputs": []
    }
  ]
}