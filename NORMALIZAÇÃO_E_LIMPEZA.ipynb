{
  "nbformat": 4,
  "nbformat_minor": 0,
  "metadata": {
    "colab": {
      "name": "NORMALIZAÇÃO E LIMPEZA",
      "provenance": [],
      "collapsed_sections": [],
      "machine_shape": "hm"
    },
    "kernelspec": {
      "name": "python3",
      "display_name": "Python 3"
    }
  },
  "cells": [
    {
      "cell_type": "code",
      "metadata": {
        "id": "_7qJgJVAPPm5",
        "colab_type": "code",
        "colab": {}
      },
      "source": [
        "#Import of libraries\n",
        "import numpy as np\n",
        "import pandas as pd\n",
        "import matplotlib.pyplot as pl\n",
        "import seaborn as sb\n",
        "import csv\n",
        "import time\n",
        "from google.colab import files\n",
        "%matplotlib inline"
      ],
      "execution_count": 0,
      "outputs": []
    },
    {
      "cell_type": "code",
      "metadata": {
        "id": "Mv0e_hPVPgGo",
        "colab_type": "code",
        "colab": {}
      },
      "source": [
        "#Upload dataset\n",
        "uploaded = files.upload()"
      ],
      "execution_count": 0,
      "outputs": []
    },
    {
      "cell_type": "code",
      "metadata": {
        "id": "BKmtshgHPlxm",
        "colab_type": "code",
        "colab": {}
      },
      "source": [
        "#Read dataset\n",
        "df= pd.read_csv('trips.csv')\n",
        "db = df"
      ],
      "execution_count": 0,
      "outputs": []
    },
    {
      "cell_type": "code",
      "metadata": {
        "id": "9ohKHw2erswU",
        "colab_type": "code",
        "colab": {}
      },
      "source": [
        "#Elimination of standardized lines in the Tstart column\n",
        "db = db.drop(db[db['Tstart'].map(len) < 19].index)\n",
        "\n",
        "#Update index of dataset\n",
        "lista = []\n",
        "for i in range(len(db['Tstart'].index)):\n",
        "  lista.append(i)\n",
        "db.index = lista"
      ],
      "execution_count": 0,
      "outputs": []
    },
    {
      "cell_type": "code",
      "metadata": {
        "id": "a6pU27OgZXxn",
        "colab_type": "code",
        "colab": {}
      },
      "source": [
        "#Elimination of standardized lines in the Tend column\n",
        "db = db.drop(db[db['Tend'].map(len) < 19].index)\n",
        "#Update index of dataset\n",
        "lista = []\n",
        "for i in range(len(db['Tend'].index)):\n",
        "  lista.append(i)\n",
        "db.index = lista"
      ],
      "execution_count": 0,
      "outputs": []
    },
    {
      "cell_type": "code",
      "metadata": {
        "id": "7FRUUv4hhOuq",
        "colab_type": "code",
        "colab": {}
      },
      "source": [
        "#Method of convertion Date to Unix Timestamp\n",
        "def convertToUnixTimestamp(element):\n",
        "  if(len(element) < 19):\n",
        "    timestamp = time.mktime(time.strptime(element, '%Y-%m-%d %H:%M:%S'))\n",
        "    return timestamp\n",
        "  date = element.split('.')\n",
        "  date[0]\n",
        "  timestamp = time.mktime(time.strptime(date[0], '%Y-%m-%d %H:%M:%S'))\n",
        "  return timestamp"
      ],
      "execution_count": 0,
      "outputs": []
    },
    {
      "cell_type": "code",
      "metadata": {
        "id": "pO0jbDn0dzbb",
        "colab_type": "code",
        "colab": {}
      },
      "source": [
        "#Convert Date to Unix Timestamp\n",
        "timeNewStart = []\n",
        "timeNewEnd = []\n",
        "\n",
        "for i in range(len(db[\"Tstart\"].index)):\n",
        "  timestamp_start = convertToUnixTimestamp(db[\"Tstart\"][i])\n",
        "  timestamp_end = convertToUnixTimestamp(db[\"Tend\"][i])\n",
        "\n",
        "  timeNewStart.append(timestamp_start)\n",
        "  timeNewEnd.append(timestamp_end)\n",
        "\n",
        "db['TstartTimestamp'] =  timeNewStart\n",
        "db['TendTimestamp'] =  timeNewEnd"
      ],
      "execution_count": 0,
      "outputs": []
    },
    {
      "cell_type": "code",
      "metadata": {
        "id": "bl51xQmsXQ0r",
        "colab_type": "code",
        "colab": {}
      },
      "source": [
        "teste = db\n",
        "teste"
      ],
      "execution_count": 0,
      "outputs": []
    },
    {
      "cell_type": "code",
      "metadata": {
        "id": "gx3JykgvLkX7",
        "colab_type": "code",
        "colab": {}
      },
      "source": [
        "#Verify null values of dataset\n",
        "teste.isnull().sum()"
      ],
      "execution_count": 0,
      "outputs": []
    },
    {
      "cell_type": "code",
      "metadata": {
        "id": "0e5Rou_cLpTa",
        "colab_type": "code",
        "colab": {}
      },
      "source": [
        "#Verify nan values of dataset\n",
        "teste.isna().sum()"
      ],
      "execution_count": 0,
      "outputs": []
    },
    {
      "cell_type": "code",
      "metadata": {
        "id": "Se2dNbnARF2V",
        "colab_type": "code",
        "colab": {}
      },
      "source": [
        "#Create CSV of updated dataset\n",
        "teste.to_csv('TripsNormalizada300ComId.csv', index=True) \n",
        "files.download('TripsNormalizada300ComId.csv')"
      ],
      "execution_count": 0,
      "outputs": []
    }
  ]
}